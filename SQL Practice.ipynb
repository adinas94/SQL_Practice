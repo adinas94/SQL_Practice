{
 "cells": [
  {
   "cell_type": "markdown",
   "metadata": {},
   "source": [
    "## Using SQL"
   ]
  },
  {
   "cell_type": "code",
   "execution_count": 1,
   "metadata": {},
   "outputs": [],
   "source": [
    "#import necessary packages \n",
    "import sqlite3\n",
    "import pandas as pd"
   ]
  },
  {
   "cell_type": "code",
   "execution_count": 2,
   "metadata": {},
   "outputs": [],
   "source": [
    "# connect database and create cursor\n",
    "conn = sqlite3.connect('nba_salary.sqlite')\n",
    "cur = conn.cursor()"
   ]
  },
  {
   "cell_type": "code",
   "execution_count": 3,
   "metadata": {},
   "outputs": [
    {
     "data": {
      "text/plain": [
       "<sqlite3.Cursor at 0x7fa96164fc00>"
      ]
     },
     "execution_count": 3,
     "metadata": {},
     "output_type": "execute_result"
    }
   ],
   "source": [
    "# executing the query to select all rows from first 5 entries in first table \n",
    "cur.execute(\"\"\"SELECT * FROM NBA_season1718_salary LIMIT 5;\"\"\")"
   ]
  },
  {
   "cell_type": "code",
   "execution_count": 4,
   "metadata": {},
   "outputs": [],
   "source": [
    "#Create the answer variable \n",
    "ans = cur.fetchall() "
   ]
  },
  {
   "cell_type": "code",
   "execution_count": 5,
   "metadata": {},
   "outputs": [
    {
     "name": "stdout",
     "output_type": "stream",
     "text": [
      "[(1.0, 'Stephen Curry', 'GSW', 34682550.0), (2.0, 'LeBron James', 'CLE', 33285709.0), (3.0, 'Paul Millsap', 'DEN', 31269231.0), (4.0, 'Gordon Hayward', 'BOS', 29727900.0), (5.0, 'Blake Griffin', 'DET', 29512900.0)]\n"
     ]
    }
   ],
   "source": [
    "#Print the result of the query\n",
    "print(ans)"
   ]
  },
  {
   "cell_type": "code",
   "execution_count": 6,
   "metadata": {},
   "outputs": [
    {
     "data": {
      "text/plain": [
       "<sqlite3.Cursor at 0x7fa96164fc00>"
      ]
     },
     "execution_count": 6,
     "metadata": {},
     "output_type": "execute_result"
    }
   ],
   "source": [
    "# executing the query to select all rows from first 5 entries in second table \n",
    "cur.execute(\"\"\"SELECT * FROM Seasons_Stats LIMIT 5;\"\"\")"
   ]
  },
  {
   "cell_type": "code",
   "execution_count": 7,
   "metadata": {},
   "outputs": [],
   "source": [
    "#Create the answer variable for the above query  \n",
    "ans2 = cur.fetchall()"
   ]
  },
  {
   "cell_type": "code",
   "execution_count": 8,
   "metadata": {},
   "outputs": [
    {
     "name": "stdout",
     "output_type": "stream",
     "text": [
      "[(0.0, 1950.0, 'Curly Armstrong', 'G-F', 31.0, 'FTW', 63.0, None, None, None, 0.368, None, 0.467, None, None, None, None, None, None, None, None, None, -0.1, 3.6, 3.5, None, None, None, None, None, None, 144.0, 516.0, 0.279, None, None, None, 144.0, 516.0, 0.279, 0.279, 170.0, 241.0, 0.705, None, None, None, 176.0, None, None, None, 217.0, 458.0), (1.0, 1950.0, 'Cliff Barker', 'SG', 29.0, 'INO', 49.0, None, None, None, 0.435, None, 0.387, None, None, None, None, None, None, None, None, None, 1.6, 0.6, 2.2, None, None, None, None, None, None, 102.0, 274.0, 0.372, None, None, None, 102.0, 274.0, 0.372, 0.372, 75.0, 106.0, 0.708, None, None, None, 109.0, None, None, None, 99.0, 279.0), (2.0, 1950.0, 'Leo Barnhorst', 'SF', 25.0, 'CHS', 67.0, None, None, None, 0.394, None, 0.259, None, None, None, None, None, None, None, None, None, 0.9, 2.8, 3.6, None, None, None, None, None, None, 174.0, 499.0, 0.349, None, None, None, 174.0, 499.0, 0.349, 0.349, 90.0, 129.0, 0.698, None, None, None, 140.0, None, None, None, 192.0, 438.0), (3.0, 1950.0, 'Ed Bartels', 'F', 24.0, 'TOT', 15.0, None, None, None, 0.312, None, 0.395, None, None, None, None, None, None, None, None, None, -0.5, -0.1, -0.6, None, None, None, None, None, None, 22.0, 86.0, 0.256, None, None, None, 22.0, 86.0, 0.256, 0.256, 19.0, 34.0, 0.559, None, None, None, 20.0, None, None, None, 29.0, 63.0), (4.0, 1950.0, 'Ed Bartels', 'F', 24.0, 'DNN', 13.0, None, None, None, 0.308, None, 0.378, None, None, None, None, None, None, None, None, None, -0.5, -0.1, -0.6, None, None, None, None, None, None, 21.0, 82.0, 0.256, None, None, None, 21.0, 82.0, 0.256, 0.256, 17.0, 31.0, 0.548, None, None, None, 20.0, None, None, None, 27.0, 59.0)]\n"
     ]
    }
   ],
   "source": [
    "#Print the result of the query\n",
    "print(ans2)"
   ]
  },
  {
   "cell_type": "code",
   "execution_count": 9,
   "metadata": {},
   "outputs": [
    {
     "data": {
      "text/plain": [
       "<sqlite3.Cursor at 0x7fa96164fc00>"
      ]
     },
     "execution_count": 9,
     "metadata": {},
     "output_type": "execute_result"
    }
   ],
   "source": [
    "#execute the SQL query \n",
    "cur.execute(\"\"\"SELECT X1, Year, Player, Pos, Age, Tm, G FROM Seasons_Stats;\"\"\")"
   ]
  },
  {
   "cell_type": "code",
   "execution_count": 10,
   "metadata": {},
   "outputs": [
    {
     "data": {
      "text/html": [
       "<div>\n",
       "<style scoped>\n",
       "    .dataframe tbody tr th:only-of-type {\n",
       "        vertical-align: middle;\n",
       "    }\n",
       "\n",
       "    .dataframe tbody tr th {\n",
       "        vertical-align: top;\n",
       "    }\n",
       "\n",
       "    .dataframe thead th {\n",
       "        text-align: right;\n",
       "    }\n",
       "</style>\n",
       "<table border=\"1\" class=\"dataframe\">\n",
       "  <thead>\n",
       "    <tr style=\"text-align: right;\">\n",
       "      <th></th>\n",
       "      <th>0</th>\n",
       "      <th>1</th>\n",
       "      <th>2</th>\n",
       "      <th>3</th>\n",
       "      <th>4</th>\n",
       "      <th>5</th>\n",
       "      <th>6</th>\n",
       "    </tr>\n",
       "  </thead>\n",
       "  <tbody>\n",
       "    <tr>\n",
       "      <th>0</th>\n",
       "      <td>0.0</td>\n",
       "      <td>1950.0</td>\n",
       "      <td>Curly Armstrong</td>\n",
       "      <td>G-F</td>\n",
       "      <td>31.0</td>\n",
       "      <td>FTW</td>\n",
       "      <td>63.0</td>\n",
       "    </tr>\n",
       "    <tr>\n",
       "      <th>1</th>\n",
       "      <td>1.0</td>\n",
       "      <td>1950.0</td>\n",
       "      <td>Cliff Barker</td>\n",
       "      <td>SG</td>\n",
       "      <td>29.0</td>\n",
       "      <td>INO</td>\n",
       "      <td>49.0</td>\n",
       "    </tr>\n",
       "    <tr>\n",
       "      <th>2</th>\n",
       "      <td>2.0</td>\n",
       "      <td>1950.0</td>\n",
       "      <td>Leo Barnhorst</td>\n",
       "      <td>SF</td>\n",
       "      <td>25.0</td>\n",
       "      <td>CHS</td>\n",
       "      <td>67.0</td>\n",
       "    </tr>\n",
       "    <tr>\n",
       "      <th>3</th>\n",
       "      <td>3.0</td>\n",
       "      <td>1950.0</td>\n",
       "      <td>Ed Bartels</td>\n",
       "      <td>F</td>\n",
       "      <td>24.0</td>\n",
       "      <td>TOT</td>\n",
       "      <td>15.0</td>\n",
       "    </tr>\n",
       "    <tr>\n",
       "      <th>4</th>\n",
       "      <td>4.0</td>\n",
       "      <td>1950.0</td>\n",
       "      <td>Ed Bartels</td>\n",
       "      <td>F</td>\n",
       "      <td>24.0</td>\n",
       "      <td>DNN</td>\n",
       "      <td>13.0</td>\n",
       "    </tr>\n",
       "  </tbody>\n",
       "</table>\n",
       "</div>"
      ],
      "text/plain": [
       "     0       1                2    3     4    5     6\n",
       "0  0.0  1950.0  Curly Armstrong  G-F  31.0  FTW  63.0\n",
       "1  1.0  1950.0     Cliff Barker   SG  29.0  INO  49.0\n",
       "2  2.0  1950.0    Leo Barnhorst   SF  25.0  CHS  67.0\n",
       "3  3.0  1950.0       Ed Bartels    F  24.0  TOT  15.0\n",
       "4  4.0  1950.0       Ed Bartels    F  24.0  DNN  13.0"
      ]
     },
     "execution_count": 10,
     "metadata": {},
     "output_type": "execute_result"
    }
   ],
   "source": [
    "#convert to Dataframe\n",
    "df = pd.DataFrame(cur.fetchall())\n",
    "df.head()"
   ]
  },
  {
   "cell_type": "code",
   "execution_count": 11,
   "metadata": {},
   "outputs": [],
   "source": [
    "#Rename the dataframe columns \n",
    "df.columns = ['ID', 'Year', 'Player', 'Position', 'Age', 'Team', 'Game']"
   ]
  },
  {
   "cell_type": "code",
   "execution_count": 12,
   "metadata": {},
   "outputs": [
    {
     "data": {
      "text/html": [
       "<div>\n",
       "<style scoped>\n",
       "    .dataframe tbody tr th:only-of-type {\n",
       "        vertical-align: middle;\n",
       "    }\n",
       "\n",
       "    .dataframe tbody tr th {\n",
       "        vertical-align: top;\n",
       "    }\n",
       "\n",
       "    .dataframe thead th {\n",
       "        text-align: right;\n",
       "    }\n",
       "</style>\n",
       "<table border=\"1\" class=\"dataframe\">\n",
       "  <thead>\n",
       "    <tr style=\"text-align: right;\">\n",
       "      <th></th>\n",
       "      <th>ID</th>\n",
       "      <th>Year</th>\n",
       "      <th>Player</th>\n",
       "      <th>Position</th>\n",
       "      <th>Age</th>\n",
       "      <th>Team</th>\n",
       "      <th>Game</th>\n",
       "    </tr>\n",
       "  </thead>\n",
       "  <tbody>\n",
       "    <tr>\n",
       "      <th>0</th>\n",
       "      <td>0.0</td>\n",
       "      <td>1950.0</td>\n",
       "      <td>Curly Armstrong</td>\n",
       "      <td>G-F</td>\n",
       "      <td>31.0</td>\n",
       "      <td>FTW</td>\n",
       "      <td>63.0</td>\n",
       "    </tr>\n",
       "    <tr>\n",
       "      <th>1</th>\n",
       "      <td>1.0</td>\n",
       "      <td>1950.0</td>\n",
       "      <td>Cliff Barker</td>\n",
       "      <td>SG</td>\n",
       "      <td>29.0</td>\n",
       "      <td>INO</td>\n",
       "      <td>49.0</td>\n",
       "    </tr>\n",
       "    <tr>\n",
       "      <th>2</th>\n",
       "      <td>2.0</td>\n",
       "      <td>1950.0</td>\n",
       "      <td>Leo Barnhorst</td>\n",
       "      <td>SF</td>\n",
       "      <td>25.0</td>\n",
       "      <td>CHS</td>\n",
       "      <td>67.0</td>\n",
       "    </tr>\n",
       "    <tr>\n",
       "      <th>3</th>\n",
       "      <td>3.0</td>\n",
       "      <td>1950.0</td>\n",
       "      <td>Ed Bartels</td>\n",
       "      <td>F</td>\n",
       "      <td>24.0</td>\n",
       "      <td>TOT</td>\n",
       "      <td>15.0</td>\n",
       "    </tr>\n",
       "    <tr>\n",
       "      <th>4</th>\n",
       "      <td>4.0</td>\n",
       "      <td>1950.0</td>\n",
       "      <td>Ed Bartels</td>\n",
       "      <td>F</td>\n",
       "      <td>24.0</td>\n",
       "      <td>DNN</td>\n",
       "      <td>13.0</td>\n",
       "    </tr>\n",
       "  </tbody>\n",
       "</table>\n",
       "</div>"
      ],
      "text/plain": [
       "    ID    Year           Player Position   Age Team  Game\n",
       "0  0.0  1950.0  Curly Armstrong      G-F  31.0  FTW  63.0\n",
       "1  1.0  1950.0     Cliff Barker       SG  29.0  INO  49.0\n",
       "2  2.0  1950.0    Leo Barnhorst       SF  25.0  CHS  67.0\n",
       "3  3.0  1950.0       Ed Bartels        F  24.0  TOT  15.0\n",
       "4  4.0  1950.0       Ed Bartels        F  24.0  DNN  13.0"
      ]
     },
     "execution_count": 12,
     "metadata": {},
     "output_type": "execute_result"
    }
   ],
   "source": [
    "#Investigate first 5 rows of dataframe\n",
    "df.head()"
   ]
  },
  {
   "cell_type": "code",
   "execution_count": 13,
   "metadata": {},
   "outputs": [
    {
     "name": "stdout",
     "output_type": "stream",
     "text": [
      "<class 'pandas.core.frame.DataFrame'>\n",
      "RangeIndex: 24691 entries, 0 to 24690\n",
      "Data columns (total 7 columns):\n",
      "ID          24691 non-null float64\n",
      "Year        24624 non-null float64\n",
      "Player      24624 non-null object\n",
      "Position    24624 non-null object\n",
      "Age         24616 non-null float64\n",
      "Team        24624 non-null object\n",
      "Game        24624 non-null float64\n",
      "dtypes: float64(4), object(3)\n",
      "memory usage: 1.3+ MB\n"
     ]
    }
   ],
   "source": [
    "#Look at information of dataframe\n",
    "df.info()"
   ]
  },
  {
   "cell_type": "code",
   "execution_count": 14,
   "metadata": {},
   "outputs": [
    {
     "data": {
      "text/html": [
       "<div>\n",
       "<style scoped>\n",
       "    .dataframe tbody tr th:only-of-type {\n",
       "        vertical-align: middle;\n",
       "    }\n",
       "\n",
       "    .dataframe tbody tr th {\n",
       "        vertical-align: top;\n",
       "    }\n",
       "\n",
       "    .dataframe thead th {\n",
       "        text-align: right;\n",
       "    }\n",
       "</style>\n",
       "<table border=\"1\" class=\"dataframe\">\n",
       "  <thead>\n",
       "    <tr style=\"text-align: right;\">\n",
       "      <th></th>\n",
       "      <th>ID</th>\n",
       "      <th>Year</th>\n",
       "      <th>Age</th>\n",
       "      <th>Game</th>\n",
       "    </tr>\n",
       "  </thead>\n",
       "  <tbody>\n",
       "    <tr>\n",
       "      <th>count</th>\n",
       "      <td>24691.000000</td>\n",
       "      <td>24624.000000</td>\n",
       "      <td>24616.000000</td>\n",
       "      <td>24624.000000</td>\n",
       "    </tr>\n",
       "    <tr>\n",
       "      <th>mean</th>\n",
       "      <td>12345.000000</td>\n",
       "      <td>1992.594989</td>\n",
       "      <td>26.664405</td>\n",
       "      <td>50.837110</td>\n",
       "    </tr>\n",
       "    <tr>\n",
       "      <th>std</th>\n",
       "      <td>7127.822084</td>\n",
       "      <td>17.429594</td>\n",
       "      <td>3.841892</td>\n",
       "      <td>26.496161</td>\n",
       "    </tr>\n",
       "    <tr>\n",
       "      <th>min</th>\n",
       "      <td>0.000000</td>\n",
       "      <td>1950.000000</td>\n",
       "      <td>18.000000</td>\n",
       "      <td>1.000000</td>\n",
       "    </tr>\n",
       "    <tr>\n",
       "      <th>25%</th>\n",
       "      <td>6172.500000</td>\n",
       "      <td>1981.000000</td>\n",
       "      <td>24.000000</td>\n",
       "      <td>27.000000</td>\n",
       "    </tr>\n",
       "    <tr>\n",
       "      <th>50%</th>\n",
       "      <td>12345.000000</td>\n",
       "      <td>1996.000000</td>\n",
       "      <td>26.000000</td>\n",
       "      <td>58.000000</td>\n",
       "    </tr>\n",
       "    <tr>\n",
       "      <th>75%</th>\n",
       "      <td>18517.500000</td>\n",
       "      <td>2007.000000</td>\n",
       "      <td>29.000000</td>\n",
       "      <td>75.000000</td>\n",
       "    </tr>\n",
       "    <tr>\n",
       "      <th>max</th>\n",
       "      <td>24690.000000</td>\n",
       "      <td>2017.000000</td>\n",
       "      <td>44.000000</td>\n",
       "      <td>88.000000</td>\n",
       "    </tr>\n",
       "  </tbody>\n",
       "</table>\n",
       "</div>"
      ],
      "text/plain": [
       "                 ID          Year           Age          Game\n",
       "count  24691.000000  24624.000000  24616.000000  24624.000000\n",
       "mean   12345.000000   1992.594989     26.664405     50.837110\n",
       "std     7127.822084     17.429594      3.841892     26.496161\n",
       "min        0.000000   1950.000000     18.000000      1.000000\n",
       "25%     6172.500000   1981.000000     24.000000     27.000000\n",
       "50%    12345.000000   1996.000000     26.000000     58.000000\n",
       "75%    18517.500000   2007.000000     29.000000     75.000000\n",
       "max    24690.000000   2017.000000     44.000000     88.000000"
      ]
     },
     "execution_count": 14,
     "metadata": {},
     "output_type": "execute_result"
    }
   ],
   "source": [
    "#Print the summary statistics\n",
    "df.describe()"
   ]
  },
  {
   "cell_type": "code",
   "execution_count": 15,
   "metadata": {},
   "outputs": [
    {
     "data": {
      "text/plain": [
       "<sqlite3.Cursor at 0x7fa96164fc00>"
      ]
     },
     "execution_count": 15,
     "metadata": {},
     "output_type": "execute_result"
    }
   ],
   "source": [
    "#Execute query to select data from second table in Dataset \n",
    "cur.execute(\"\"\"SELECT * FROM NBA_season1718_salary;\"\"\")"
   ]
  },
  {
   "cell_type": "code",
   "execution_count": 16,
   "metadata": {},
   "outputs": [
    {
     "data": {
      "text/html": [
       "<div>\n",
       "<style scoped>\n",
       "    .dataframe tbody tr th:only-of-type {\n",
       "        vertical-align: middle;\n",
       "    }\n",
       "\n",
       "    .dataframe tbody tr th {\n",
       "        vertical-align: top;\n",
       "    }\n",
       "\n",
       "    .dataframe thead th {\n",
       "        text-align: right;\n",
       "    }\n",
       "</style>\n",
       "<table border=\"1\" class=\"dataframe\">\n",
       "  <thead>\n",
       "    <tr style=\"text-align: right;\">\n",
       "      <th></th>\n",
       "      <th>0</th>\n",
       "      <th>1</th>\n",
       "      <th>2</th>\n",
       "      <th>3</th>\n",
       "    </tr>\n",
       "  </thead>\n",
       "  <tbody>\n",
       "    <tr>\n",
       "      <th>0</th>\n",
       "      <td>1.0</td>\n",
       "      <td>Stephen Curry</td>\n",
       "      <td>GSW</td>\n",
       "      <td>34682550.0</td>\n",
       "    </tr>\n",
       "    <tr>\n",
       "      <th>1</th>\n",
       "      <td>2.0</td>\n",
       "      <td>LeBron James</td>\n",
       "      <td>CLE</td>\n",
       "      <td>33285709.0</td>\n",
       "    </tr>\n",
       "    <tr>\n",
       "      <th>2</th>\n",
       "      <td>3.0</td>\n",
       "      <td>Paul Millsap</td>\n",
       "      <td>DEN</td>\n",
       "      <td>31269231.0</td>\n",
       "    </tr>\n",
       "    <tr>\n",
       "      <th>3</th>\n",
       "      <td>4.0</td>\n",
       "      <td>Gordon Hayward</td>\n",
       "      <td>BOS</td>\n",
       "      <td>29727900.0</td>\n",
       "    </tr>\n",
       "    <tr>\n",
       "      <th>4</th>\n",
       "      <td>5.0</td>\n",
       "      <td>Blake Griffin</td>\n",
       "      <td>DET</td>\n",
       "      <td>29512900.0</td>\n",
       "    </tr>\n",
       "  </tbody>\n",
       "</table>\n",
       "</div>"
      ],
      "text/plain": [
       "     0               1    2           3\n",
       "0  1.0   Stephen Curry  GSW  34682550.0\n",
       "1  2.0    LeBron James  CLE  33285709.0\n",
       "2  3.0    Paul Millsap  DEN  31269231.0\n",
       "3  4.0  Gordon Hayward  BOS  29727900.0\n",
       "4  5.0   Blake Griffin  DET  29512900.0"
      ]
     },
     "execution_count": 16,
     "metadata": {},
     "output_type": "execute_result"
    }
   ],
   "source": [
    "#Create dataframe with this extra query\n",
    "df2 = pd.DataFrame(cur.fetchall())\n",
    "df2.head()"
   ]
  },
  {
   "cell_type": "code",
   "execution_count": 17,
   "metadata": {},
   "outputs": [],
   "source": [
    "#Rename the dataframe columns \n",
    "df2.columns = ['ID', 'Player', 'Team', 'Salary']"
   ]
  },
  {
   "cell_type": "code",
   "execution_count": 18,
   "metadata": {},
   "outputs": [
    {
     "data": {
      "text/html": [
       "<div>\n",
       "<style scoped>\n",
       "    .dataframe tbody tr th:only-of-type {\n",
       "        vertical-align: middle;\n",
       "    }\n",
       "\n",
       "    .dataframe tbody tr th {\n",
       "        vertical-align: top;\n",
       "    }\n",
       "\n",
       "    .dataframe thead th {\n",
       "        text-align: right;\n",
       "    }\n",
       "</style>\n",
       "<table border=\"1\" class=\"dataframe\">\n",
       "  <thead>\n",
       "    <tr style=\"text-align: right;\">\n",
       "      <th></th>\n",
       "      <th>ID</th>\n",
       "      <th>Player</th>\n",
       "      <th>Team</th>\n",
       "      <th>Salary</th>\n",
       "    </tr>\n",
       "  </thead>\n",
       "  <tbody>\n",
       "    <tr>\n",
       "      <th>0</th>\n",
       "      <td>1.0</td>\n",
       "      <td>Stephen Curry</td>\n",
       "      <td>GSW</td>\n",
       "      <td>34682550.0</td>\n",
       "    </tr>\n",
       "    <tr>\n",
       "      <th>1</th>\n",
       "      <td>2.0</td>\n",
       "      <td>LeBron James</td>\n",
       "      <td>CLE</td>\n",
       "      <td>33285709.0</td>\n",
       "    </tr>\n",
       "    <tr>\n",
       "      <th>2</th>\n",
       "      <td>3.0</td>\n",
       "      <td>Paul Millsap</td>\n",
       "      <td>DEN</td>\n",
       "      <td>31269231.0</td>\n",
       "    </tr>\n",
       "    <tr>\n",
       "      <th>3</th>\n",
       "      <td>4.0</td>\n",
       "      <td>Gordon Hayward</td>\n",
       "      <td>BOS</td>\n",
       "      <td>29727900.0</td>\n",
       "    </tr>\n",
       "    <tr>\n",
       "      <th>4</th>\n",
       "      <td>5.0</td>\n",
       "      <td>Blake Griffin</td>\n",
       "      <td>DET</td>\n",
       "      <td>29512900.0</td>\n",
       "    </tr>\n",
       "  </tbody>\n",
       "</table>\n",
       "</div>"
      ],
      "text/plain": [
       "    ID          Player Team      Salary\n",
       "0  1.0   Stephen Curry  GSW  34682550.0\n",
       "1  2.0    LeBron James  CLE  33285709.0\n",
       "2  3.0    Paul Millsap  DEN  31269231.0\n",
       "3  4.0  Gordon Hayward  BOS  29727900.0\n",
       "4  5.0   Blake Griffin  DET  29512900.0"
      ]
     },
     "execution_count": 18,
     "metadata": {},
     "output_type": "execute_result"
    }
   ],
   "source": [
    "#View the dataframe again \n",
    "df2.head()"
   ]
  },
  {
   "cell_type": "code",
   "execution_count": 19,
   "metadata": {},
   "outputs": [
    {
     "name": "stdout",
     "output_type": "stream",
     "text": [
      "<class 'pandas.core.frame.DataFrame'>\n",
      "RangeIndex: 573 entries, 0 to 572\n",
      "Data columns (total 4 columns):\n",
      "ID        573 non-null float64\n",
      "Player    573 non-null object\n",
      "Team      573 non-null object\n",
      "Salary    573 non-null float64\n",
      "dtypes: float64(2), object(2)\n",
      "memory usage: 18.0+ KB\n"
     ]
    }
   ],
   "source": [
    "#Look at information on dataframe \n",
    "df2.info()"
   ]
  },
  {
   "cell_type": "code",
   "execution_count": 20,
   "metadata": {},
   "outputs": [
    {
     "data": {
      "text/html": [
       "<div>\n",
       "<style scoped>\n",
       "    .dataframe tbody tr th:only-of-type {\n",
       "        vertical-align: middle;\n",
       "    }\n",
       "\n",
       "    .dataframe tbody tr th {\n",
       "        vertical-align: top;\n",
       "    }\n",
       "\n",
       "    .dataframe thead th {\n",
       "        text-align: right;\n",
       "    }\n",
       "</style>\n",
       "<table border=\"1\" class=\"dataframe\">\n",
       "  <thead>\n",
       "    <tr style=\"text-align: right;\">\n",
       "      <th></th>\n",
       "      <th>ID</th>\n",
       "      <th>Year</th>\n",
       "      <th>Age</th>\n",
       "      <th>Game</th>\n",
       "    </tr>\n",
       "  </thead>\n",
       "  <tbody>\n",
       "    <tr>\n",
       "      <th>count</th>\n",
       "      <td>24691.000000</td>\n",
       "      <td>24624.000000</td>\n",
       "      <td>24616.000000</td>\n",
       "      <td>24624.000000</td>\n",
       "    </tr>\n",
       "    <tr>\n",
       "      <th>mean</th>\n",
       "      <td>12345.000000</td>\n",
       "      <td>1992.594989</td>\n",
       "      <td>26.664405</td>\n",
       "      <td>50.837110</td>\n",
       "    </tr>\n",
       "    <tr>\n",
       "      <th>std</th>\n",
       "      <td>7127.822084</td>\n",
       "      <td>17.429594</td>\n",
       "      <td>3.841892</td>\n",
       "      <td>26.496161</td>\n",
       "    </tr>\n",
       "    <tr>\n",
       "      <th>min</th>\n",
       "      <td>0.000000</td>\n",
       "      <td>1950.000000</td>\n",
       "      <td>18.000000</td>\n",
       "      <td>1.000000</td>\n",
       "    </tr>\n",
       "    <tr>\n",
       "      <th>25%</th>\n",
       "      <td>6172.500000</td>\n",
       "      <td>1981.000000</td>\n",
       "      <td>24.000000</td>\n",
       "      <td>27.000000</td>\n",
       "    </tr>\n",
       "    <tr>\n",
       "      <th>50%</th>\n",
       "      <td>12345.000000</td>\n",
       "      <td>1996.000000</td>\n",
       "      <td>26.000000</td>\n",
       "      <td>58.000000</td>\n",
       "    </tr>\n",
       "    <tr>\n",
       "      <th>75%</th>\n",
       "      <td>18517.500000</td>\n",
       "      <td>2007.000000</td>\n",
       "      <td>29.000000</td>\n",
       "      <td>75.000000</td>\n",
       "    </tr>\n",
       "    <tr>\n",
       "      <th>max</th>\n",
       "      <td>24690.000000</td>\n",
       "      <td>2017.000000</td>\n",
       "      <td>44.000000</td>\n",
       "      <td>88.000000</td>\n",
       "    </tr>\n",
       "  </tbody>\n",
       "</table>\n",
       "</div>"
      ],
      "text/plain": [
       "                 ID          Year           Age          Game\n",
       "count  24691.000000  24624.000000  24616.000000  24624.000000\n",
       "mean   12345.000000   1992.594989     26.664405     50.837110\n",
       "std     7127.822084     17.429594      3.841892     26.496161\n",
       "min        0.000000   1950.000000     18.000000      1.000000\n",
       "25%     6172.500000   1981.000000     24.000000     27.000000\n",
       "50%    12345.000000   1996.000000     26.000000     58.000000\n",
       "75%    18517.500000   2007.000000     29.000000     75.000000\n",
       "max    24690.000000   2017.000000     44.000000     88.000000"
      ]
     },
     "execution_count": 20,
     "metadata": {},
     "output_type": "execute_result"
    }
   ],
   "source": [
    "#Describe the dataframe\n",
    "df.describe()"
   ]
  },
  {
   "cell_type": "code",
   "execution_count": 21,
   "metadata": {},
   "outputs": [],
   "source": [
    "#Join the Dataframes\n",
    "joined_df = pd.concat([df, df2], axis=1, join='outer')"
   ]
  },
  {
   "cell_type": "code",
   "execution_count": 22,
   "metadata": {},
   "outputs": [
    {
     "data": {
      "text/html": [
       "<div>\n",
       "<style scoped>\n",
       "    .dataframe tbody tr th:only-of-type {\n",
       "        vertical-align: middle;\n",
       "    }\n",
       "\n",
       "    .dataframe tbody tr th {\n",
       "        vertical-align: top;\n",
       "    }\n",
       "\n",
       "    .dataframe thead th {\n",
       "        text-align: right;\n",
       "    }\n",
       "</style>\n",
       "<table border=\"1\" class=\"dataframe\">\n",
       "  <thead>\n",
       "    <tr style=\"text-align: right;\">\n",
       "      <th></th>\n",
       "      <th>ID</th>\n",
       "      <th>Year</th>\n",
       "      <th>Player</th>\n",
       "      <th>Position</th>\n",
       "      <th>Age</th>\n",
       "      <th>Team</th>\n",
       "      <th>Game</th>\n",
       "      <th>ID</th>\n",
       "      <th>Player</th>\n",
       "      <th>Team</th>\n",
       "      <th>Salary</th>\n",
       "    </tr>\n",
       "  </thead>\n",
       "  <tbody>\n",
       "    <tr>\n",
       "      <th>0</th>\n",
       "      <td>0.0</td>\n",
       "      <td>1950.0</td>\n",
       "      <td>Curly Armstrong</td>\n",
       "      <td>G-F</td>\n",
       "      <td>31.0</td>\n",
       "      <td>FTW</td>\n",
       "      <td>63.0</td>\n",
       "      <td>1.0</td>\n",
       "      <td>Stephen Curry</td>\n",
       "      <td>GSW</td>\n",
       "      <td>34682550.0</td>\n",
       "    </tr>\n",
       "    <tr>\n",
       "      <th>1</th>\n",
       "      <td>1.0</td>\n",
       "      <td>1950.0</td>\n",
       "      <td>Cliff Barker</td>\n",
       "      <td>SG</td>\n",
       "      <td>29.0</td>\n",
       "      <td>INO</td>\n",
       "      <td>49.0</td>\n",
       "      <td>2.0</td>\n",
       "      <td>LeBron James</td>\n",
       "      <td>CLE</td>\n",
       "      <td>33285709.0</td>\n",
       "    </tr>\n",
       "    <tr>\n",
       "      <th>2</th>\n",
       "      <td>2.0</td>\n",
       "      <td>1950.0</td>\n",
       "      <td>Leo Barnhorst</td>\n",
       "      <td>SF</td>\n",
       "      <td>25.0</td>\n",
       "      <td>CHS</td>\n",
       "      <td>67.0</td>\n",
       "      <td>3.0</td>\n",
       "      <td>Paul Millsap</td>\n",
       "      <td>DEN</td>\n",
       "      <td>31269231.0</td>\n",
       "    </tr>\n",
       "    <tr>\n",
       "      <th>3</th>\n",
       "      <td>3.0</td>\n",
       "      <td>1950.0</td>\n",
       "      <td>Ed Bartels</td>\n",
       "      <td>F</td>\n",
       "      <td>24.0</td>\n",
       "      <td>TOT</td>\n",
       "      <td>15.0</td>\n",
       "      <td>4.0</td>\n",
       "      <td>Gordon Hayward</td>\n",
       "      <td>BOS</td>\n",
       "      <td>29727900.0</td>\n",
       "    </tr>\n",
       "    <tr>\n",
       "      <th>4</th>\n",
       "      <td>4.0</td>\n",
       "      <td>1950.0</td>\n",
       "      <td>Ed Bartels</td>\n",
       "      <td>F</td>\n",
       "      <td>24.0</td>\n",
       "      <td>DNN</td>\n",
       "      <td>13.0</td>\n",
       "      <td>5.0</td>\n",
       "      <td>Blake Griffin</td>\n",
       "      <td>DET</td>\n",
       "      <td>29512900.0</td>\n",
       "    </tr>\n",
       "  </tbody>\n",
       "</table>\n",
       "</div>"
      ],
      "text/plain": [
       "    ID    Year           Player Position   Age Team  Game   ID  \\\n",
       "0  0.0  1950.0  Curly Armstrong      G-F  31.0  FTW  63.0  1.0   \n",
       "1  1.0  1950.0     Cliff Barker       SG  29.0  INO  49.0  2.0   \n",
       "2  2.0  1950.0    Leo Barnhorst       SF  25.0  CHS  67.0  3.0   \n",
       "3  3.0  1950.0       Ed Bartels        F  24.0  TOT  15.0  4.0   \n",
       "4  4.0  1950.0       Ed Bartels        F  24.0  DNN  13.0  5.0   \n",
       "\n",
       "           Player Team      Salary  \n",
       "0   Stephen Curry  GSW  34682550.0  \n",
       "1    LeBron James  CLE  33285709.0  \n",
       "2    Paul Millsap  DEN  31269231.0  \n",
       "3  Gordon Hayward  BOS  29727900.0  \n",
       "4   Blake Griffin  DET  29512900.0  "
      ]
     },
     "execution_count": 22,
     "metadata": {},
     "output_type": "execute_result"
    }
   ],
   "source": [
    "#View the joined dataframe\n",
    "joined_df.head()"
   ]
  },
  {
   "cell_type": "code",
   "execution_count": 23,
   "metadata": {},
   "outputs": [
    {
     "name": "stdout",
     "output_type": "stream",
     "text": [
      "<class 'pandas.core.frame.DataFrame'>\n",
      "RangeIndex: 24691 entries, 0 to 24690\n",
      "Data columns (total 11 columns):\n",
      "ID          24691 non-null float64\n",
      "Year        24624 non-null float64\n",
      "Player      24624 non-null object\n",
      "Position    24624 non-null object\n",
      "Age         24616 non-null float64\n",
      "Team        24624 non-null object\n",
      "Game        24624 non-null float64\n",
      "ID          573 non-null float64\n",
      "Player      573 non-null object\n",
      "Team        573 non-null object\n",
      "Salary      573 non-null float64\n",
      "dtypes: float64(6), object(5)\n",
      "memory usage: 2.1+ MB\n"
     ]
    }
   ],
   "source": [
    "#Look at info of new df\n",
    "joined_df.info()"
   ]
  },
  {
   "cell_type": "code",
   "execution_count": 24,
   "metadata": {},
   "outputs": [
    {
     "data": {
      "text/plain": [
       "(24691, 11)"
      ]
     },
     "execution_count": 24,
     "metadata": {},
     "output_type": "execute_result"
    }
   ],
   "source": [
    "#Look at shape of joined dataframe\n",
    "joined_df.shape"
   ]
  },
  {
   "cell_type": "code",
   "execution_count": 25,
   "metadata": {},
   "outputs": [
    {
     "data": {
      "text/html": [
       "<div>\n",
       "<style scoped>\n",
       "    .dataframe tbody tr th:only-of-type {\n",
       "        vertical-align: middle;\n",
       "    }\n",
       "\n",
       "    .dataframe tbody tr th {\n",
       "        vertical-align: top;\n",
       "    }\n",
       "\n",
       "    .dataframe thead th {\n",
       "        text-align: right;\n",
       "    }\n",
       "</style>\n",
       "<table border=\"1\" class=\"dataframe\">\n",
       "  <thead>\n",
       "    <tr style=\"text-align: right;\">\n",
       "      <th></th>\n",
       "      <th>ID</th>\n",
       "      <th>Year</th>\n",
       "      <th>Age</th>\n",
       "      <th>Game</th>\n",
       "      <th>ID</th>\n",
       "      <th>Salary</th>\n",
       "    </tr>\n",
       "  </thead>\n",
       "  <tbody>\n",
       "    <tr>\n",
       "      <th>count</th>\n",
       "      <td>24691.000000</td>\n",
       "      <td>24624.000000</td>\n",
       "      <td>24616.000000</td>\n",
       "      <td>24624.000000</td>\n",
       "      <td>573.000000</td>\n",
       "      <td>5.730000e+02</td>\n",
       "    </tr>\n",
       "    <tr>\n",
       "      <th>mean</th>\n",
       "      <td>12345.000000</td>\n",
       "      <td>1992.594989</td>\n",
       "      <td>26.664405</td>\n",
       "      <td>50.837110</td>\n",
       "      <td>287.000000</td>\n",
       "      <td>5.858946e+06</td>\n",
       "    </tr>\n",
       "    <tr>\n",
       "      <th>std</th>\n",
       "      <td>7127.822084</td>\n",
       "      <td>17.429594</td>\n",
       "      <td>3.841892</td>\n",
       "      <td>26.496161</td>\n",
       "      <td>165.555127</td>\n",
       "      <td>7.162373e+06</td>\n",
       "    </tr>\n",
       "    <tr>\n",
       "      <th>min</th>\n",
       "      <td>0.000000</td>\n",
       "      <td>1950.000000</td>\n",
       "      <td>18.000000</td>\n",
       "      <td>1.000000</td>\n",
       "      <td>1.000000</td>\n",
       "      <td>1.722400e+04</td>\n",
       "    </tr>\n",
       "    <tr>\n",
       "      <th>25%</th>\n",
       "      <td>6172.500000</td>\n",
       "      <td>1981.000000</td>\n",
       "      <td>24.000000</td>\n",
       "      <td>27.000000</td>\n",
       "      <td>144.000000</td>\n",
       "      <td>1.312611e+06</td>\n",
       "    </tr>\n",
       "    <tr>\n",
       "      <th>50%</th>\n",
       "      <td>12345.000000</td>\n",
       "      <td>1996.000000</td>\n",
       "      <td>26.000000</td>\n",
       "      <td>58.000000</td>\n",
       "      <td>287.000000</td>\n",
       "      <td>2.386864e+06</td>\n",
       "    </tr>\n",
       "    <tr>\n",
       "      <th>75%</th>\n",
       "      <td>18517.500000</td>\n",
       "      <td>2007.000000</td>\n",
       "      <td>29.000000</td>\n",
       "      <td>75.000000</td>\n",
       "      <td>430.000000</td>\n",
       "      <td>7.936509e+06</td>\n",
       "    </tr>\n",
       "    <tr>\n",
       "      <th>max</th>\n",
       "      <td>24690.000000</td>\n",
       "      <td>2017.000000</td>\n",
       "      <td>44.000000</td>\n",
       "      <td>88.000000</td>\n",
       "      <td>573.000000</td>\n",
       "      <td>3.468255e+07</td>\n",
       "    </tr>\n",
       "  </tbody>\n",
       "</table>\n",
       "</div>"
      ],
      "text/plain": [
       "                 ID          Year           Age          Game          ID  \\\n",
       "count  24691.000000  24624.000000  24616.000000  24624.000000  573.000000   \n",
       "mean   12345.000000   1992.594989     26.664405     50.837110  287.000000   \n",
       "std     7127.822084     17.429594      3.841892     26.496161  165.555127   \n",
       "min        0.000000   1950.000000     18.000000      1.000000    1.000000   \n",
       "25%     6172.500000   1981.000000     24.000000     27.000000  144.000000   \n",
       "50%    12345.000000   1996.000000     26.000000     58.000000  287.000000   \n",
       "75%    18517.500000   2007.000000     29.000000     75.000000  430.000000   \n",
       "max    24690.000000   2017.000000     44.000000     88.000000  573.000000   \n",
       "\n",
       "             Salary  \n",
       "count  5.730000e+02  \n",
       "mean   5.858946e+06  \n",
       "std    7.162373e+06  \n",
       "min    1.722400e+04  \n",
       "25%    1.312611e+06  \n",
       "50%    2.386864e+06  \n",
       "75%    7.936509e+06  \n",
       "max    3.468255e+07  "
      ]
     },
     "execution_count": 25,
     "metadata": {},
     "output_type": "execute_result"
    }
   ],
   "source": [
    "#Look at summary statistics of joined dataframe\n",
    "joined_df.describe()"
   ]
  },
  {
   "cell_type": "code",
   "execution_count": 26,
   "metadata": {},
   "outputs": [
    {
     "data": {
      "text/plain": [
       "ID              0\n",
       "Year           67\n",
       "Player         67\n",
       "Position       67\n",
       "Age            75\n",
       "Team           67\n",
       "Game           67\n",
       "ID          24118\n",
       "Player      24118\n",
       "Team        24118\n",
       "Salary      24118\n",
       "dtype: int64"
      ]
     },
     "execution_count": 26,
     "metadata": {},
     "output_type": "execute_result"
    }
   ],
   "source": [
    "#Count NA values \n",
    "joined_df.isna().sum()"
   ]
  },
  {
   "cell_type": "code",
   "execution_count": 30,
   "metadata": {},
   "outputs": [],
   "source": [
    "#Fill 'Year', 'Player', 'Team' and 'Posiiton', 'ID', NA values with 0\n",
    "joined_df['Year'] = joined_df['Year'].fillna(0)\n",
    "joined_df['Player'] = joined_df['Player'].fillna(0)\n",
    "joined_df['Team'] = joined_df['Team'].fillna(0)\n",
    "joined_df['Position'] = joined_df['Position'].fillna(0)\n",
    "joined_df['ID'] = joined_df['ID'].fillna(0)"
   ]
  },
  {
   "cell_type": "code",
   "execution_count": 31,
   "metadata": {},
   "outputs": [],
   "source": [
    "#Fill 'Age' NA values with the mean age \n",
    "joined_df['Age'] = joined_df['Age'].fillna(joined_df['Age'].mean())"
   ]
  },
  {
   "cell_type": "code",
   "execution_count": 32,
   "metadata": {},
   "outputs": [
    {
     "data": {
      "text/plain": [
       "ID              0\n",
       "Year            0\n",
       "Player          0\n",
       "Position        0\n",
       "Age             0\n",
       "Team            0\n",
       "Game           67\n",
       "ID              0\n",
       "Player          0\n",
       "Team            0\n",
       "Salary      24118\n",
       "dtype: int64"
      ]
     },
     "execution_count": 32,
     "metadata": {},
     "output_type": "execute_result"
    }
   ],
   "source": [
    "#Check NAs again\n",
    "joined_df.isna().sum()"
   ]
  },
  {
   "cell_type": "code",
   "execution_count": null,
   "metadata": {},
   "outputs": [],
   "source": []
  }
 ],
 "metadata": {
  "kernelspec": {
   "display_name": "Python 3",
   "language": "python",
   "name": "python3"
  },
  "language_info": {
   "codemirror_mode": {
    "name": "ipython",
    "version": 3
   },
   "file_extension": ".py",
   "mimetype": "text/x-python",
   "name": "python",
   "nbconvert_exporter": "python",
   "pygments_lexer": "ipython3",
   "version": "3.6.9"
  }
 },
 "nbformat": 4,
 "nbformat_minor": 4
}
