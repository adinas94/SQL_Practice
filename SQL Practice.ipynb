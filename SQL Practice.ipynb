{
 "cells": [
  {
   "cell_type": "markdown",
   "metadata": {},
   "source": [
    "## Using SQL"
   ]
  },
  {
   "cell_type": "code",
   "execution_count": 1,
   "metadata": {},
   "outputs": [],
   "source": [
    "#import necessary packages \n",
    "import sqlite3\n",
    "import pandas as pd"
   ]
  },
  {
   "cell_type": "code",
   "execution_count": 2,
   "metadata": {},
   "outputs": [],
   "source": [
    "# connect database and create cursor\n",
    "conn = sqlite3.connect('nba_salary.sqlite')\n",
    "cur = conn.cursor()"
   ]
  },
  {
   "cell_type": "code",
   "execution_count": 3,
   "metadata": {},
   "outputs": [
    {
     "data": {
      "text/plain": [
       "<sqlite3.Cursor at 0x7f8b67644c00>"
      ]
     },
     "execution_count": 3,
     "metadata": {},
     "output_type": "execute_result"
    }
   ],
   "source": [
    "# executing the query to select all rows from first 5 entries in first table \n",
    "cur.execute(\"\"\"SELECT * FROM NBA_season1718_salary LIMIT 5;\"\"\")"
   ]
  },
  {
   "cell_type": "code",
   "execution_count": 4,
   "metadata": {},
   "outputs": [],
   "source": [
    "#Create the answer variable \n",
    "ans = cur.fetchall() "
   ]
  },
  {
   "cell_type": "code",
   "execution_count": 5,
   "metadata": {},
   "outputs": [
    {
     "name": "stdout",
     "output_type": "stream",
     "text": [
      "[(1.0, 'Stephen Curry', 'GSW', 34682550.0), (2.0, 'LeBron James', 'CLE', 33285709.0), (3.0, 'Paul Millsap', 'DEN', 31269231.0), (4.0, 'Gordon Hayward', 'BOS', 29727900.0), (5.0, 'Blake Griffin', 'DET', 29512900.0)]\n"
     ]
    }
   ],
   "source": [
    "#Print the result of the query\n",
    "print(ans)"
   ]
  },
  {
   "cell_type": "code",
   "execution_count": 6,
   "metadata": {},
   "outputs": [
    {
     "data": {
      "text/plain": [
       "<sqlite3.Cursor at 0x7f8b67644c00>"
      ]
     },
     "execution_count": 6,
     "metadata": {},
     "output_type": "execute_result"
    }
   ],
   "source": [
    "# executing the query to select all rows from first 5 entries in second table \n",
    "cur.execute(\"\"\"SELECT * FROM Seasons_Stats LIMIT 5;\"\"\")"
   ]
  },
  {
   "cell_type": "code",
   "execution_count": 7,
   "metadata": {},
   "outputs": [],
   "source": [
    "#Create the answer variable for the above query  \n",
    "ans2 = cur.fetchall()"
   ]
  },
  {
   "cell_type": "code",
   "execution_count": 9,
   "metadata": {},
   "outputs": [
    {
     "name": "stdout",
     "output_type": "stream",
     "text": [
      "[(0.0, 1950.0, 'Curly Armstrong', 'G-F', 31.0, 'FTW', 63.0, None, None, None, 0.368, None, 0.467, None, None, None, None, None, None, None, None, None, -0.1, 3.6, 3.5, None, None, None, None, None, None, 144.0, 516.0, 0.279, None, None, None, 144.0, 516.0, 0.279, 0.279, 170.0, 241.0, 0.705, None, None, None, 176.0, None, None, None, 217.0, 458.0), (1.0, 1950.0, 'Cliff Barker', 'SG', 29.0, 'INO', 49.0, None, None, None, 0.435, None, 0.387, None, None, None, None, None, None, None, None, None, 1.6, 0.6, 2.2, None, None, None, None, None, None, 102.0, 274.0, 0.372, None, None, None, 102.0, 274.0, 0.372, 0.372, 75.0, 106.0, 0.708, None, None, None, 109.0, None, None, None, 99.0, 279.0), (2.0, 1950.0, 'Leo Barnhorst', 'SF', 25.0, 'CHS', 67.0, None, None, None, 0.394, None, 0.259, None, None, None, None, None, None, None, None, None, 0.9, 2.8, 3.6, None, None, None, None, None, None, 174.0, 499.0, 0.349, None, None, None, 174.0, 499.0, 0.349, 0.349, 90.0, 129.0, 0.698, None, None, None, 140.0, None, None, None, 192.0, 438.0), (3.0, 1950.0, 'Ed Bartels', 'F', 24.0, 'TOT', 15.0, None, None, None, 0.312, None, 0.395, None, None, None, None, None, None, None, None, None, -0.5, -0.1, -0.6, None, None, None, None, None, None, 22.0, 86.0, 0.256, None, None, None, 22.0, 86.0, 0.256, 0.256, 19.0, 34.0, 0.559, None, None, None, 20.0, None, None, None, 29.0, 63.0), (4.0, 1950.0, 'Ed Bartels', 'F', 24.0, 'DNN', 13.0, None, None, None, 0.308, None, 0.378, None, None, None, None, None, None, None, None, None, -0.5, -0.1, -0.6, None, None, None, None, None, None, 21.0, 82.0, 0.256, None, None, None, 21.0, 82.0, 0.256, 0.256, 17.0, 31.0, 0.548, None, None, None, 20.0, None, None, None, 27.0, 59.0)]\n"
     ]
    }
   ],
   "source": [
    "#Print the result of the query\n",
    "print(ans2)"
   ]
  },
  {
   "cell_type": "code",
   "execution_count": null,
   "metadata": {},
   "outputs": [],
   "source": []
  }
 ],
 "metadata": {
  "kernelspec": {
   "display_name": "Python 3",
   "language": "python",
   "name": "python3"
  },
  "language_info": {
   "codemirror_mode": {
    "name": "ipython",
    "version": 3
   },
   "file_extension": ".py",
   "mimetype": "text/x-python",
   "name": "python",
   "nbconvert_exporter": "python",
   "pygments_lexer": "ipython3",
   "version": "3.6.9"
  }
 },
 "nbformat": 4,
 "nbformat_minor": 4
}
